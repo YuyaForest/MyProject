{
 "cells": [
  {
   "cell_type": "code",
   "execution_count": 1,
   "id": "acd85d15-7c8d-4bee-9128-2a3b12a587e8",
   "metadata": {},
   "outputs": [
    {
     "name": "stdout",
     "output_type": "stream",
     "text": [
      "Requirement already satisfied: sudachipy in /opt/anaconda3/lib/python3.12/site-packages (0.6.9)\n",
      "Requirement already satisfied: sudachidict_core in /opt/anaconda3/lib/python3.12/site-packages (20241021)\n",
      "Requirement already satisfied: SudachiPy<0.7,>=0.5 in /opt/anaconda3/lib/python3.12/site-packages (from sudachidict_core) (0.6.9)\n",
      "Requirement already satisfied: transformers in /opt/anaconda3/lib/python3.12/site-packages (4.46.3)\n",
      "Requirement already satisfied: filelock in /opt/anaconda3/lib/python3.12/site-packages (from transformers) (3.13.1)\n",
      "Requirement already satisfied: huggingface-hub<1.0,>=0.23.2 in /opt/anaconda3/lib/python3.12/site-packages (from transformers) (0.24.5)\n",
      "Requirement already satisfied: numpy>=1.17 in /opt/anaconda3/lib/python3.12/site-packages (from transformers) (1.26.4)\n",
      "Requirement already satisfied: packaging>=20.0 in /opt/anaconda3/lib/python3.12/site-packages (from transformers) (23.2)\n",
      "Requirement already satisfied: pyyaml>=5.1 in /opt/anaconda3/lib/python3.12/site-packages (from transformers) (6.0.1)\n",
      "Requirement already satisfied: regex!=2019.12.17 in /opt/anaconda3/lib/python3.12/site-packages (from transformers) (2024.7.24)\n",
      "Requirement already satisfied: requests in /opt/anaconda3/lib/python3.12/site-packages (from transformers) (2.32.2)\n",
      "Requirement already satisfied: tokenizers<0.21,>=0.20 in /opt/anaconda3/lib/python3.12/site-packages (from transformers) (0.20.3)\n",
      "Requirement already satisfied: safetensors>=0.4.1 in /opt/anaconda3/lib/python3.12/site-packages (from transformers) (0.4.3)\n",
      "Requirement already satisfied: tqdm>=4.27 in /opt/anaconda3/lib/python3.12/site-packages (from transformers) (4.66.4)\n",
      "Requirement already satisfied: fsspec>=2023.5.0 in /opt/anaconda3/lib/python3.12/site-packages (from huggingface-hub<1.0,>=0.23.2->transformers) (2024.3.1)\n",
      "Requirement already satisfied: typing-extensions>=3.7.4.3 in /opt/anaconda3/lib/python3.12/site-packages (from huggingface-hub<1.0,>=0.23.2->transformers) (4.11.0)\n",
      "Requirement already satisfied: charset-normalizer<4,>=2 in /opt/anaconda3/lib/python3.12/site-packages (from requests->transformers) (3.3.2)\n",
      "Requirement already satisfied: idna<4,>=2.5 in /opt/anaconda3/lib/python3.12/site-packages (from requests->transformers) (3.7)\n",
      "Requirement already satisfied: urllib3<3,>=1.21.1 in /opt/anaconda3/lib/python3.12/site-packages (from requests->transformers) (2.2.2)\n",
      "Requirement already satisfied: certifi>=2017.4.17 in /opt/anaconda3/lib/python3.12/site-packages (from requests->transformers) (2024.8.30)\n",
      "Requirement already satisfied: tf-keras~=2.16 in /opt/anaconda3/lib/python3.12/site-packages (2.18.0)\n",
      "Requirement already satisfied: tensorflow<2.19,>=2.18 in /opt/anaconda3/lib/python3.12/site-packages (from tf-keras~=2.16) (2.18.0)\n",
      "Requirement already satisfied: absl-py>=1.0.0 in /opt/anaconda3/lib/python3.12/site-packages (from tensorflow<2.19,>=2.18->tf-keras~=2.16) (2.1.0)\n",
      "Requirement already satisfied: astunparse>=1.6.0 in /opt/anaconda3/lib/python3.12/site-packages (from tensorflow<2.19,>=2.18->tf-keras~=2.16) (1.6.3)\n",
      "Requirement already satisfied: flatbuffers>=24.3.25 in /opt/anaconda3/lib/python3.12/site-packages (from tensorflow<2.19,>=2.18->tf-keras~=2.16) (24.3.25)\n",
      "Requirement already satisfied: gast!=0.5.0,!=0.5.1,!=0.5.2,>=0.2.1 in /opt/anaconda3/lib/python3.12/site-packages (from tensorflow<2.19,>=2.18->tf-keras~=2.16) (0.6.0)\n",
      "Requirement already satisfied: google-pasta>=0.1.1 in /opt/anaconda3/lib/python3.12/site-packages (from tensorflow<2.19,>=2.18->tf-keras~=2.16) (0.2.0)\n",
      "Requirement already satisfied: libclang>=13.0.0 in /opt/anaconda3/lib/python3.12/site-packages (from tensorflow<2.19,>=2.18->tf-keras~=2.16) (18.1.1)\n",
      "Requirement already satisfied: opt-einsum>=2.3.2 in /opt/anaconda3/lib/python3.12/site-packages (from tensorflow<2.19,>=2.18->tf-keras~=2.16) (3.3.0)\n",
      "Requirement already satisfied: packaging in /opt/anaconda3/lib/python3.12/site-packages (from tensorflow<2.19,>=2.18->tf-keras~=2.16) (23.2)\n",
      "Requirement already satisfied: protobuf!=4.21.0,!=4.21.1,!=4.21.2,!=4.21.3,!=4.21.4,!=4.21.5,<6.0.0dev,>=3.20.3 in /opt/anaconda3/lib/python3.12/site-packages (from tensorflow<2.19,>=2.18->tf-keras~=2.16) (3.20.3)\n",
      "Requirement already satisfied: requests<3,>=2.21.0 in /opt/anaconda3/lib/python3.12/site-packages (from tensorflow<2.19,>=2.18->tf-keras~=2.16) (2.32.2)\n",
      "Requirement already satisfied: setuptools in /opt/anaconda3/lib/python3.12/site-packages (from tensorflow<2.19,>=2.18->tf-keras~=2.16) (72.1.0)\n",
      "Requirement already satisfied: six>=1.12.0 in /opt/anaconda3/lib/python3.12/site-packages (from tensorflow<2.19,>=2.18->tf-keras~=2.16) (1.16.0)\n",
      "Requirement already satisfied: termcolor>=1.1.0 in /opt/anaconda3/lib/python3.12/site-packages (from tensorflow<2.19,>=2.18->tf-keras~=2.16) (2.4.0)\n",
      "Requirement already satisfied: typing-extensions>=3.6.6 in /opt/anaconda3/lib/python3.12/site-packages (from tensorflow<2.19,>=2.18->tf-keras~=2.16) (4.11.0)\n",
      "Requirement already satisfied: wrapt>=1.11.0 in /opt/anaconda3/lib/python3.12/site-packages (from tensorflow<2.19,>=2.18->tf-keras~=2.16) (1.14.1)\n",
      "Requirement already satisfied: grpcio<2.0,>=1.24.3 in /opt/anaconda3/lib/python3.12/site-packages (from tensorflow<2.19,>=2.18->tf-keras~=2.16) (1.65.4)\n",
      "Requirement already satisfied: tensorboard<2.19,>=2.18 in /opt/anaconda3/lib/python3.12/site-packages (from tensorflow<2.19,>=2.18->tf-keras~=2.16) (2.18.0)\n",
      "Requirement already satisfied: keras>=3.5.0 in /opt/anaconda3/lib/python3.12/site-packages (from tensorflow<2.19,>=2.18->tf-keras~=2.16) (3.7.0)\n",
      "Requirement already satisfied: numpy<2.1.0,>=1.26.0 in /opt/anaconda3/lib/python3.12/site-packages (from tensorflow<2.19,>=2.18->tf-keras~=2.16) (1.26.4)\n",
      "Requirement already satisfied: h5py>=3.11.0 in /opt/anaconda3/lib/python3.12/site-packages (from tensorflow<2.19,>=2.18->tf-keras~=2.16) (3.11.0)\n",
      "Requirement already satisfied: ml-dtypes<0.5.0,>=0.4.0 in /opt/anaconda3/lib/python3.12/site-packages (from tensorflow<2.19,>=2.18->tf-keras~=2.16) (0.4.0)\n",
      "Requirement already satisfied: wheel<1.0,>=0.23.0 in /opt/anaconda3/lib/python3.12/site-packages (from astunparse>=1.6.0->tensorflow<2.19,>=2.18->tf-keras~=2.16) (0.43.0)\n",
      "Requirement already satisfied: rich in /opt/anaconda3/lib/python3.12/site-packages (from keras>=3.5.0->tensorflow<2.19,>=2.18->tf-keras~=2.16) (13.7.1)\n",
      "Requirement already satisfied: namex in /opt/anaconda3/lib/python3.12/site-packages (from keras>=3.5.0->tensorflow<2.19,>=2.18->tf-keras~=2.16) (0.0.8)\n",
      "Requirement already satisfied: optree in /opt/anaconda3/lib/python3.12/site-packages (from keras>=3.5.0->tensorflow<2.19,>=2.18->tf-keras~=2.16) (0.12.1)\n",
      "Requirement already satisfied: charset-normalizer<4,>=2 in /opt/anaconda3/lib/python3.12/site-packages (from requests<3,>=2.21.0->tensorflow<2.19,>=2.18->tf-keras~=2.16) (3.3.2)\n",
      "Requirement already satisfied: idna<4,>=2.5 in /opt/anaconda3/lib/python3.12/site-packages (from requests<3,>=2.21.0->tensorflow<2.19,>=2.18->tf-keras~=2.16) (3.7)\n",
      "Requirement already satisfied: urllib3<3,>=1.21.1 in /opt/anaconda3/lib/python3.12/site-packages (from requests<3,>=2.21.0->tensorflow<2.19,>=2.18->tf-keras~=2.16) (2.2.2)\n",
      "Requirement already satisfied: certifi>=2017.4.17 in /opt/anaconda3/lib/python3.12/site-packages (from requests<3,>=2.21.0->tensorflow<2.19,>=2.18->tf-keras~=2.16) (2024.8.30)\n",
      "Requirement already satisfied: markdown>=2.6.8 in /opt/anaconda3/lib/python3.12/site-packages (from tensorboard<2.19,>=2.18->tensorflow<2.19,>=2.18->tf-keras~=2.16) (3.4.1)\n",
      "Requirement already satisfied: tensorboard-data-server<0.8.0,>=0.7.0 in /opt/anaconda3/lib/python3.12/site-packages (from tensorboard<2.19,>=2.18->tensorflow<2.19,>=2.18->tf-keras~=2.16) (0.7.2)\n",
      "Requirement already satisfied: werkzeug>=1.0.1 in /opt/anaconda3/lib/python3.12/site-packages (from tensorboard<2.19,>=2.18->tensorflow<2.19,>=2.18->tf-keras~=2.16) (3.0.3)\n",
      "Requirement already satisfied: MarkupSafe>=2.1.1 in /opt/anaconda3/lib/python3.12/site-packages (from werkzeug>=1.0.1->tensorboard<2.19,>=2.18->tensorflow<2.19,>=2.18->tf-keras~=2.16) (2.1.3)\n",
      "Requirement already satisfied: markdown-it-py>=2.2.0 in /opt/anaconda3/lib/python3.12/site-packages (from rich->keras>=3.5.0->tensorflow<2.19,>=2.18->tf-keras~=2.16) (2.2.0)\n",
      "Requirement already satisfied: pygments<3.0.0,>=2.13.0 in /opt/anaconda3/lib/python3.12/site-packages (from rich->keras>=3.5.0->tensorflow<2.19,>=2.18->tf-keras~=2.16) (2.15.1)\n",
      "Requirement already satisfied: mdurl~=0.1 in /opt/anaconda3/lib/python3.12/site-packages (from markdown-it-py>=2.2.0->rich->keras>=3.5.0->tensorflow<2.19,>=2.18->tf-keras~=2.16) (0.1.0)\n"
     ]
    }
   ],
   "source": [
    "!pip install sudachipy\n",
    "!pip install sudachidict_core\n",
    "!pip install transformers\n",
    "!pip install tf-keras~=2.16"
   ]
  },
  {
   "cell_type": "code",
   "execution_count": 3,
   "id": "c70f454b-2ad8-4ea3-9334-4a9779d3dc47",
   "metadata": {},
   "outputs": [],
   "source": [
    "from sudachipy import tokenizer\n",
    "from sudachipy import dictionary\n",
    "from transformers import pipeline\n",
    "import matplotlib.pyplot as plt"
   ]
  },
  {
   "cell_type": "code",
   "execution_count": 5,
   "id": "09610fb4-df18-495a-b1fd-a5a3967bf489",
   "metadata": {},
   "outputs": [],
   "source": [
    "# Sudachiインスタンス作成\n",
    "tokenizer_obj = dictionary.Dictionary().create()\n",
    "mode = tokenizer.Tokenizer.SplitMode.C  # 詳細モード"
   ]
  },
  {
   "cell_type": "code",
   "execution_count": 7,
   "id": "20bb0cb3-b749-468b-a9a9-dbcc9e4e5a21",
   "metadata": {},
   "outputs": [],
   "source": [
    "# テキスト\n",
    "text = \"あなたの発言は非常に失礼で、受け入れられないものです。\""
   ]
  },
  {
   "cell_type": "code",
   "execution_count": 9,
   "id": "d6cfd0cf-6640-407e-98e8-d627abc8be23",
   "metadata": {},
   "outputs": [
    {
     "name": "stdout",
     "output_type": "stream",
     "text": [
      "形態素解析結果: ['あなた', 'の', '発言', 'は', '非常', 'に', '失礼', 'で', '、', '受け入れ', 'られ', 'ない', 'もの', 'です', '。']\n"
     ]
    }
   ],
   "source": [
    "# SudachiPyで形態素解析\n",
    "tokens = [token.surface() for token in tokenizer_obj.tokenize(text, mode) if token.surface() != \"\"]\n",
    "print(\"形態素解析結果:\", tokens)"
   ]
  },
  {
   "cell_type": "code",
   "execution_count": 11,
   "id": "9962260e-1cdd-48c9-af8c-7f40a56d18b4",
   "metadata": {},
   "outputs": [
    {
     "name": "stderr",
     "output_type": "stream",
     "text": [
      "Hardware accelerator e.g. GPU is available in the environment, but no `device` argument is passed to the `Pipeline` object. Model will be on CPU.\n"
     ]
    }
   ],
   "source": [
    "# 有害性検出モデル\n",
    "toxicity_classifier = pipeline(\"text-classification\", model=\"unitary/toxic-bert\")"
   ]
  },
  {
   "cell_type": "code",
   "execution_count": 13,
   "id": "ec3c1cae-40c8-4b88-8c35-b37d7841a263",
   "metadata": {},
   "outputs": [
    {
     "name": "stderr",
     "output_type": "stream",
     "text": [
      "Some weights of RobertaForSequenceClassification were not initialized from the model checkpoint at rinna/japanese-roberta-base and are newly initialized: ['classifier.dense.bias', 'classifier.dense.weight', 'classifier.out_proj.bias', 'classifier.out_proj.weight']\n",
      "You should probably TRAIN this model on a down-stream task to be able to use it for predictions and inference.\n",
      "You are using the default legacy behaviour of the <class 'transformers.models.t5.tokenization_t5.T5Tokenizer'>. This is expected, and simply means that the `legacy` (previous) behavior will be used so nothing changes for you. If you want to use the new behaviour, set `legacy=False`. This should only be set if you understand what it means, and thoroughly read the reason why this was added as explained in https://github.com/huggingface/transformers/pull/24565\n",
      "Hardware accelerator e.g. GPU is available in the environment, but no `device` argument is passed to the `Pipeline` object. Model will be on CPU.\n"
     ]
    }
   ],
   "source": [
    "# 感情分析モデル Harassment Detector 4で感情と有害性の逆相関をプロットするため、rinnaを加えました。\n",
    "sentiment_analyzer = pipeline(\"sentiment-analysis\", model=\"rinna/japanese-roberta-base\")"
   ]
  },
  {
   "cell_type": "code",
   "execution_count": 15,
   "id": "fa453a1b-0a1b-432e-bbf3-78502535e929",
   "metadata": {},
   "outputs": [],
   "source": [
    "# スコアリストの準備\n",
    "toxicity_scores = []\n",
    "sentiment_scores = []"
   ]
  },
  {
   "cell_type": "code",
   "execution_count": 17,
   "id": "8bfbbcc0-9a54-45e6-81a9-6636e50081d4",
   "metadata": {},
   "outputs": [
    {
     "name": "stdout",
     "output_type": "stream",
     "text": [
      "単語: あなた\n",
      "  有害性スコア: 0.0007685829768888652\n",
      "  感情スコア: 0.500518262386322\n",
      "単語: の\n",
      "  有害性スコア: 0.0009658244089223444\n",
      "  感情スコア: 0.5225480198860168\n",
      "単語: 発言\n",
      "  有害性スコア: 0.0012355254730209708\n",
      "  感情スコア: 0.5170952677726746\n",
      "単語: は\n",
      "  有害性スコア: 0.0009561330662108958\n",
      "  感情スコア: 0.5062277317047119\n",
      "単語: 非常\n",
      "  有害性スコア: 0.011535150930285454\n",
      "  感情スコア: 0.5250034332275391\n",
      "単語: に\n",
      "  有害性スコア: 0.0009511485695838928\n",
      "  感情スコア: 0.5347592830657959\n",
      "単語: 失礼\n",
      "  有害性スコア: 0.011535150930285454\n",
      "  感情スコア: 0.5140368938446045\n",
      "単語: で\n",
      "  有害性スコア: 0.0009430053760297596\n",
      "  感情スコア: 0.5385875701904297\n",
      "単語: 、\n",
      "  有害性スコア: 0.0009492749813944101\n",
      "  感情スコア: 0.5263656377792358\n",
      "単語: 受け入れ\n",
      "  有害性スコア: 0.0013194801285862923\n",
      "  感情スコア: 0.5084683895111084\n",
      "単語: られ\n",
      "  有害性スコア: 0.000767198100220412\n",
      "  感情スコア: 0.5318614840507507\n",
      "単語: ない\n",
      "  有害性スコア: 0.0008037105435505509\n",
      "  感情スコア: 0.528080403804779\n",
      "単語: もの\n",
      "  有害性スコア: 0.0007604753482155502\n",
      "  感情スコア: 0.5055872201919556\n",
      "単語: です\n",
      "  有害性スコア: 0.0007557937642559409\n",
      "  感情スコア: 0.5134353637695312\n",
      "単語: 。\n",
      "  有害性スコア: 0.0009466102346777916\n",
      "  感情スコア: 0.5324265360832214\n"
     ]
    }
   ],
   "source": [
    "# 分割された単語ごとに有害性を検出\n",
    "# スコアリストの準備\n",
    "toxicity_scores = []\n",
    "sentiment_scores = []\n",
    "\n",
    "# 分割された単語ごとに有害性と感情を検出\n",
    "for token in tokens:\n",
    "    # 有害性検出\n",
    "    toxicity_result = toxicity_classifier(token)\n",
    "    toxicity_score = toxicity_result[0]['score']\n",
    "    toxicity_scores.append(toxicity_score)\n",
    "    \n",
    "    # 感情分析\n",
    "    sentiment_result = sentiment_analyzer(token)\n",
    "    sentiment_score = sentiment_result[0]['score'] \n",
    "    sentiment_scores.append(sentiment_score)\n",
    "    \n",
    "    print(f\"単語: {token}\")\n",
    "    print(f\"  有害性スコア: {toxicity_score}\")\n",
    "    print(f\"  感情スコア: {sentiment_score}\")"
   ]
  },
  {
   "cell_type": "code",
   "execution_count": 19,
   "id": "4e193268-bf29-4f97-8476-16f41032d1d7",
   "metadata": {},
   "outputs": [
    {
     "data": {
      "text/plain": [
       "<Figure size 1000x600 with 0 Axes>"
      ]
     },
     "execution_count": 19,
     "metadata": {},
     "output_type": "execute_result"
    },
    {
     "data": {
      "text/plain": [
       "<Figure size 1000x600 with 0 Axes>"
      ]
     },
     "metadata": {},
     "output_type": "display_data"
    }
   ],
   "source": [
    "# ラインチャートの作成\n",
    "import matplotlib.pyplot as plt\n",
    "plt.figure(figsize=(10, 6))"
   ]
  },
  {
   "cell_type": "code",
   "execution_count": null,
   "id": "fa474436-45d2-4f03-af47-77a3b4259b4c",
   "metadata": {},
   "outputs": [],
   "source": [
    "# 有害性スコアのプロット\n",
    "plt.plot(tokens, toxicity_scores, label=\"有害性スコア (Toxicity)\", marker=\"o\")\n"
   ]
  },
  {
   "cell_type": "code",
   "execution_count": null,
   "id": "46037348-105f-4256-a0ea-4767ab050208",
   "metadata": {},
   "outputs": [],
   "source": [
    "# 感情スコアのプロット\n",
    "plt.plot(tokens, sentiment_scores, label=\"感情スコア (Negative Sentiment)\", marker=\"o\")\n"
   ]
  },
  {
   "cell_type": "code",
   "execution_count": null,
   "id": "b9b23699-507f-479f-88c5-daa4875828a6",
   "metadata": {},
   "outputs": [],
   "source": []
  }
 ],
 "metadata": {
  "kernelspec": {
   "display_name": "Python 3 (ipykernel)",
   "language": "python",
   "name": "python3"
  },
  "language_info": {
   "codemirror_mode": {
    "name": "ipython",
    "version": 3
   },
   "file_extension": ".py",
   "mimetype": "text/x-python",
   "name": "python",
   "nbconvert_exporter": "python",
   "pygments_lexer": "ipython3",
   "version": "3.12.2"
  }
 },
 "nbformat": 4,
 "nbformat_minor": 5
}
